{
 "cells": [
  {
   "cell_type": "code",
   "execution_count": 1,
   "metadata": {},
   "outputs": [
    {
     "name": "stdout",
     "output_type": "stream",
     "text": [
      "[215355.2836182  195014.22162585 306891.01207633 ... 384110.55559035\n",
      " 380512.68595684 221618.58321807]\n",
      "(50000,)\n",
      "       SquareFeet  Bedrooms  Bathrooms  Neighborhood  YearBuilt\n",
      "0            2126         4          1             1       1969\n",
      "1            2459         3          2             1       1980\n",
      "2            1860         2          1             2       1970\n",
      "3            2294         2          1             3       1996\n",
      "4            2130         5          2             2       2001\n",
      "...           ...       ...        ...           ...        ...\n",
      "49995        1282         5          3             1       1975\n",
      "49996        2854         2          2             2       1988\n",
      "49997        2979         5          3             2       1962\n",
      "49998        2596         5          2             1       1984\n",
      "49999        1572         5          3             1       2011\n",
      "\n",
      "[50000 rows x 5 columns]\n",
      "(50000, 5)\n"
     ]
    }
   ],
   "source": [
    "# Load Data\n",
    "import pandas as pd\n",
    "from sklearn.preprocessing import StandardScaler\n",
    "\n",
    "csv_file_path = '/Users/macbookpro/Desktop/(Use this) housing_price_dataset.csv' \n",
    "label_data = pd.read_csv(csv_file_path)\n",
    "\n",
    "# Get labels and variables\n",
    "labels = label_data.iloc[0:50001, 5].values\n",
    "print(labels)\n",
    "print(labels.shape)\n",
    "variables = label_data.iloc[0:50001, 0:5]\n",
    "print(variables)\n",
    "print(variables.shape)"
   ]
  },
  {
   "cell_type": "code",
   "execution_count": 2,
   "metadata": {},
   "outputs": [
    {
     "name": "stdout",
     "output_type": "stream",
     "text": [
      "Mean Square Error: 2468771544.275607\n",
      "R² score: 0.5728435816569826\n"
     ]
    }
   ],
   "source": [
    "# Linear Regression\n",
    "\n",
    "import numpy as np\n",
    "from sklearn.linear_model import LinearRegression\n",
    "from sklearn.metrics import mean_squared_error, r2_score\n",
    "from sklearn.model_selection import train_test_split\n",
    "\n",
    "# train/test split\n",
    "X_train, X_test, y_train, y_test = train_test_split(variables, labels, test_size=0.3, random_state=42)\n",
    "\n",
    "# create linear regression model\n",
    "linear_regressor = LinearRegression()\n",
    "\n",
    "# evaluation\n",
    "linear_regressor.fit(X_train, y_train)\n",
    "y_pred = linear_regressor.predict(X_test)\n",
    "mse = mean_squared_error(y_test, y_pred)\n",
    "r2 = r2_score(y_test, y_pred)\n",
    "print(f\"Mean Square Error: {mse}\")\n",
    "print(f\"R² score: {r2}\")"
   ]
  },
  {
   "cell_type": "code",
   "execution_count": 3,
   "metadata": {},
   "outputs": [
    {
     "name": "stdout",
     "output_type": "stream",
     "text": [
      "Best Parameters:  {'alpha': 10}\n",
      "5-Fold Cross Validation MSE: 2492982836.592742 +/- 29111871.97167061\n",
      "5-Fold Cross Validation R²: 0.5699567726086732 +/- 0.0040731464261042115\n"
     ]
    }
   ],
   "source": [
    "# LASSO\n",
    "import numpy as np\n",
    "from sklearn.linear_model import Lasso\n",
    "from sklearn.metrics import mean_squared_error, r2_score\n",
    "from sklearn.model_selection import train_test_split, GridSearchCV, KFold, cross_val_score\n",
    "\n",
    "# train/test split\n",
    "X_train, X_test, y_train, y_test = train_test_split(variables, labels, test_size=0.3, random_state=42)\n",
    "\n",
    "# define param_grid parameters for LASSO\n",
    "param_grid = {\n",
    "    'alpha': [0.001, 0.01, 0.1, 1, 10]\n",
    "}\n",
    "\n",
    "# create LASSO regressor\n",
    "lasso_regressor = Lasso()\n",
    "\n",
    "# use GridSearchCV to test all parameters\n",
    "grid_search = GridSearchCV(lasso_regressor, param_grid, cv=2, scoring='neg_mean_squared_error')\n",
    "grid_search.fit(variables, labels)\n",
    "\n",
    "# get best parameters\n",
    "best_params = grid_search.best_params_\n",
    "print(\"Best Parameters: \", best_params)\n",
    "\n",
    "# create a new regressor with best parameters\n",
    "best_lasso_regressor = Lasso(**best_params)\n",
    "\n",
    "# calculate mse in 5-folds using LASSO\n",
    "cv = KFold(n_splits=5, shuffle=True, random_state=42)\n",
    "mse_scores = cross_val_score(best_lasso_regressor, variables, labels, cv=cv, scoring='neg_mean_squared_error')\n",
    "mean_mse = np.mean(-mse_scores)\n",
    "std_mse = np.std(-mse_scores)\n",
    "\n",
    "# calculate R² in 5 folds using LASSO\n",
    "r2_scores = cross_val_score(best_lasso_regressor, variables, labels, cv=cv, scoring='r2')\n",
    "mean_r2 = np.mean(r2_scores)\n",
    "std_r2 = np.std(r2_scores)\n",
    "\n",
    "print(f'5-Fold Cross Validation MSE: {mean_mse} +/- {std_mse}')\n",
    "print(f'5-Fold Cross Validation R²: {mean_r2} +/- {std_r2}')\n"
   ]
  },
  {
   "cell_type": "code",
   "execution_count": 5,
   "metadata": {},
   "outputs": [
    {
     "name": "stdout",
     "output_type": "stream",
     "text": [
      "Best parameters:  {'max_depth': 10, 'min_samples_leaf': 1, 'min_samples_split': 10, 'n_estimators': 200}\n",
      "5-Fold Cross Validation MSE: 2526867451.760862 +/- 27138793.35331006\n",
      "5-Fold Cross Validation R²: 0.5641104831619396 +/- 0.0037409341851049856\n"
     ]
    }
   ],
   "source": [
    "# Random Forest\n",
    "import numpy as np\n",
    "from sklearn.ensemble import RandomForestRegressor\n",
    "from sklearn.model_selection import GridSearchCV, KFold\n",
    "from sklearn.metrics import mean_squared_error, r2_score\n",
    "\n",
    "# define param_grid parameters\n",
    "param_grid = {\n",
    "    'n_estimators': [100, 200, 300],\n",
    "    'max_depth': [None, 10, 20, 30],\n",
    "    'min_samples_split': [2, 5, 10],\n",
    "    'min_samples_leaf': [1, 2, 4]\n",
    "}\n",
    "\n",
    "n_splits = 5\n",
    "# create RandomForestRegressor\n",
    "rf = RandomForestRegressor(random_state=42)\n",
    "\n",
    "# use KFold for cross-validation\n",
    "skf = KFold(n_splits=n_splits, shuffle=True, random_state=42)\n",
    "\n",
    "# create GridSearchCV\n",
    "grid_search = GridSearchCV(rf, param_grid, cv=skf, scoring='neg_mean_squared_error', n_jobs=-1)\n",
    "\n",
    "# use GridSearchCV to test all parameters\n",
    "grid_search.fit(variables, labels)\n",
    "\n",
    "# get best parameters\n",
    "best_params = grid_search.best_params_\n",
    "print(\"Best parameters: \", best_params)\n",
    "\n",
    "# use best parameters to evaluate rf\n",
    "total_mse = []\n",
    "total_r2 = []\n",
    "\n",
    "for fold, (train_index, test_index) in enumerate(skf.split(variables, labels)):\n",
    "    X_train, X_test = variables.iloc[train_index], variables.iloc[test_index]\n",
    "    y_train, y_test = labels[train_index], labels[test_index]\n",
    "\n",
    "    model = RandomForestRegressor(**best_params, random_state=42)\n",
    "\n",
    "    model.fit(X_train, y_train)\n",
    "\n",
    "    y_pred = model.predict(X_test)\n",
    "\n",
    "    mse = mean_squared_error(y_test, y_pred)\n",
    "    r2 = r2_score(y_test, y_pred)\n",
    "\n",
    "    total_mse.append(mse)\n",
    "    total_r2.append(r2)\n",
    "\n",
    "# get average accuracy\n",
    "average_mse = np.mean(total_mse)\n",
    "std_mse = np.std(total_mse)\n",
    "average_r2 = np.mean(total_r2)\n",
    "std_r2 = np.std(total_r2)\n",
    "print(f\"5-Fold Cross Validation MSE: {average_mse} +/- {std_mse}\")\n",
    "print(f\"5-Fold Cross Validation R²: {average_r2} +/- {std_r2}\")"
   ]
  }
 ],
 "metadata": {
  "kernelspec": {
   "display_name": "Python 3.10.1 64-bit",
   "language": "python",
   "name": "python3"
  },
  "language_info": {
   "codemirror_mode": {
    "name": "ipython",
    "version": 3
   },
   "file_extension": ".py",
   "mimetype": "text/x-python",
   "name": "python",
   "nbconvert_exporter": "python",
   "pygments_lexer": "ipython3",
   "version": "3.10.1"
  },
  "orig_nbformat": 4,
  "vscode": {
   "interpreter": {
    "hash": "aee8b7b246df8f9039afb4144a1f6fd8d2ca17a180786b69acc140d282b71a49"
   }
  }
 },
 "nbformat": 4,
 "nbformat_minor": 2
}
